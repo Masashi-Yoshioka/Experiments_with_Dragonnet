{
 "cells": [
  {
   "cell_type": "markdown",
   "id": "77979bc1",
   "metadata": {},
   "source": [
    "# Experiments with \"Dragonnet\"&mdash;Neural Network for Causal Inferences"
   ]
  },
  {
   "cell_type": "markdown",
   "id": "6a41110e",
   "metadata": {},
   "source": [
    "Masashi Yoshioka\n",
    "\n",
    "March 16, 2022"
   ]
  },
  {
   "cell_type": "markdown",
   "id": "8a6d297a",
   "metadata": {},
   "source": [
    "The following discussion is based on Shi et al. (2019). Their official code is available at https://github.com/claudiashi57/dragonnet. In this article, I have modified their code and applied it to artificial data to see how well it can perform."
   ]
  },
  {
   "cell_type": "markdown",
   "id": "eacee9c5",
   "metadata": {},
   "source": [
    "**Note that it takes a long time (more than 19 hours for my laptop!) to run the code. If you run, you may want to decrease the number of iterations for the Monte Carlo simulation, namely `R = 500` in `fn_simulation()`.**"
   ]
  },
  {
   "cell_type": "code",
   "execution_count": 1,
   "id": "e3aa7530",
   "metadata": {},
   "outputs": [],
   "source": [
    "# Suppress warnings\n",
    "import warnings\n",
    "warnings.filterwarnings('ignore')\n",
    "\n",
    "# Import packages\n",
    "import numpy as np\n",
    "import tensorflow as tf\n",
    "import matplotlib.pyplot as plt\n",
    "from tqdm import tqdm\n",
    "from scipy.stats import pearsonr\n",
    "import random\n",
    "\n",
    "# Import from simulation.py\n",
    "from utils.simulation import fn_generate_data, fn_simulation\n",
    "\n",
    "# Set the random seed\n",
    "np.random.seed(2022)\n",
    "tf.random.set_seed(2022)\n",
    "random.seed(2022)"
   ]
  },
  {
   "cell_type": "markdown",
   "id": "0caeb923",
   "metadata": {},
   "source": [
    "## Dragonnet Architecture"
   ]
  },
  {
   "cell_type": "markdown",
   "id": "e8671477",
   "metadata": {},
   "source": [
    "The Dragonnet has three heads, one for estimating propensity score ($g$) and the others for estimating conditional outcome ($Q$). For comparison, the pre-established neural network method called TARNET is also used, which has a similar architecture but does not have a head for propensity score ($\\hat{g}(\\cdot)$). TARNET estimates the propensity score separatetly by logistic regression.\n",
    "\n",
    "Graphically, the Dragonnet has the following architecture (from Shi et al. (2019)).\n",
    "![Dragonnet architecture from Shi et al. (2019)](image.jpg)"
   ]
  },
  {
   "cell_type": "markdown",
   "id": "b96ed0f7",
   "metadata": {},
   "source": [
    "## Targeted Regulatization"
   ]
  },
  {
   "cell_type": "markdown",
   "id": "e12bccc1",
   "metadata": {},
   "source": [
    "If `targeted_regularization = False`, it will minimize the cost function\n",
    "\n",
    "$$\n",
    "\\hat{R}(\\mathbf{\\theta}; \\mathbf{X}) \\equiv \\frac{1}{n} \\sum_i \\left[ \\left( Q^\\mathrm{nn} (t_i, \\mathbf{x_i}; \\mathbf{\\theta} ) - y_i \\right) ^2+ \\alpha * CrossEntropy \\left( g^\\mathrm{nn} (\\mathbf{x_i}; \\mathbf{\\theta}),t_i \\right) \\right].\n",
    "$$\n",
    "\n",
    "If `targeted_regularization = True`, it will minimize the modified cost function\n",
    "\n",
    "$$\n",
    "\\hat{R}^\\mathrm{treg}(\\mathbf{\\theta}, \\varepsilon; \\mathbf{X}) \\equiv \\hat{R}(\\mathbf{\\theta}; \\mathbf{X}) + \\beta \\frac{1}{n} \\sum_i \\left( y_i - \\tilde{Q} (t_i, \\mathbf{x_i}; \\mathbf{\\theta}, \\varepsilon ) \\right)^2,\n",
    "$$\n",
    "\n",
    "where\n",
    "\n",
    "$$\n",
    "\\tilde{Q} (t_i, \\mathbf{x_i}; \\mathbf{\\theta}, \\varepsilon ) = Q^\\mathrm{nn} (t_i, \\mathbf{x_i}; \\mathbf{\\theta} ) + \\varepsilon \\left( \\frac{t_i}{g^\\mathrm{nn} (\\mathbf{x_i}; \\mathbf{\\theta})} - \\frac{1 - t_i}{1 - g^\\mathrm{nn} (\\mathbf{x_i}; \\mathbf{\\theta})} \\right).\n",
    "$$\n"
   ]
  },
  {
   "cell_type": "markdown",
   "id": "8ad051c8",
   "metadata": {},
   "source": [
    "Following Shi et al. (2019), I set the hyperparameters as $\\alpha = \\beta = 1$. The hyperparameters for optimization (learning rate, epoch size etc.) are chosen so that the value of the cost function over the validation subset converges as close to zero as possible. The following code does not include the optimization process to reduce the computational costs."
   ]
  },
  {
   "cell_type": "markdown",
   "id": "ca9d13ae",
   "metadata": {},
   "source": [
    "Using the predicted values of $\\hat{Q}$, we can estimate the average treatment effect by\n",
    "\n",
    "$$\n",
    "\\hat{\\psi} = \\frac{1}{n} \\sum_i \\left(\\hat{Q} (1, \\mathbf{x_i}) - \\hat{Q} (0, \\mathbf{x_i}) \\right).\n",
    "$$"
   ]
  },
  {
   "cell_type": "markdown",
   "id": "571b233c",
   "metadata": {},
   "source": [
    "## Simulation Study&mdash;Generate Variables"
   ]
  },
  {
   "cell_type": "markdown",
   "id": "561ab058",
   "metadata": {},
   "source": [
    "In order to simulate the performance of the estimator, I generate variables assuming the following data generating process. The underlying idea is that I am trying to relate ($Y$ and $\\mathbf{X}$) and ($T$ and $\\mathbf{X}$) both nonlinearly, whereas the assumption of unconfoundedness $(Y_1, Y_0) \\perp T | \\mathbf{X}$ holds. I generate $5$ covariates $\\mathbf{X} \\equiv [X_1, \\ldots , X_5]$.\n",
    "\n",
    "The DGP is assumed to be:\n",
    "\n",
    "$$\n",
    "\\mathbf{X} \\sim N(\\mathbf{0}, \\Sigma) \\ \\mathrm{where} \\ Corr (X_i, X_j) = 0.5 \\ \\mathrm{for} \\ i \\neq j, \\\\\n",
    "T = I \\left( \\frac{\\exp( \\mathbf{X}_\\mathrm{poly} \\beta_1 )}{1 + \\exp(\\mathbf{X}_\\mathrm{poly} \\beta_1)} > 0.5 \\right),\n",
    "$$\n",
    "\n",
    "where $\\mathbf{X}_\\mathrm{poly}$ is the fifth-degree polynomial of $\\mathbf{X}$ (standardized; including interactions), $\\beta_1 \\sim iid \\ N(0.1, 0.1^2)$ and $I(\\cdot)$ is an indicator function, and\n",
    "\n",
    "$$\n",
    "Y = \\psi * T + \\mathbf{X}_\\mathrm{poly} \\beta_2 + e,\n",
    "$$\n",
    "\n",
    "where $\\psi \\equiv 10$ is a true treatment effect, $\\beta_2 \\sim iid \\ N(1, 1^2)$ and $e \\sim N(0, 1)$.\n"
   ]
  },
  {
   "cell_type": "markdown",
   "id": "60900958",
   "metadata": {},
   "source": [
    "We can check if variables are really correlated with each other by simulation:"
   ]
  },
  {
   "cell_type": "code",
   "execution_count": 2,
   "id": "1896924b",
   "metadata": {},
   "outputs": [
    {
     "name": "stderr",
     "output_type": "stream",
     "text": [
      "100%|██████████████████████████████████████████████████████████████████████████████| 1000/1000 [00:10<00:00, 97.57it/s]\n"
     ]
    }
   ],
   "source": [
    "# Simulate variables and see the correlation\n",
    "psi = 10; nvar = 5; nobs = 1000; corr = 0.5; degree = 5\n",
    "\n",
    "corrYXs = []\n",
    "corrTXs = []\n",
    "for r in tqdm(range(1000)):\n",
    "    Y, T, X = fn_generate_data(psi, nobs, nvar, corr, degree)\n",
    "    corrYX, _ = pearsonr(Y.ravel(), X[:, 0].ravel())\n",
    "    corrYXs += [corrYX]\n",
    "    corrTX, _ = pearsonr(T.ravel(), X[:, 0].ravel())\n",
    "    corrTXs += [corrTX]"
   ]
  },
  {
   "cell_type": "code",
   "execution_count": 3,
   "id": "90152ee6",
   "metadata": {},
   "outputs": [
    {
     "data": {
      "image/png": "[encoded data removed]",
      "text/plain": [
       "<Figure size 432x288 with 1 Axes>"
      ]
     },
     "metadata": {
      "needs_background": "light"
     },
     "output_type": "display_data"
    }
   ],
   "source": [
    "# Correlation between Y and X\n",
    "plt.hist(corrYXs)\n",
    "plt.title('Correlation coefficient between $Y$ and (one of) $\\mathbf{X}$')\n",
    "plt.show()"
   ]
  },
  {
   "cell_type": "code",
   "execution_count": 4,
   "id": "b0932a58",
   "metadata": {},
   "outputs": [
    {
     "data": {
      "image/png": "[encoded data removed]",
      "text/plain": [
       "<Figure size 432x288 with 1 Axes>"
      ]
     },
     "metadata": {
      "needs_background": "light"
     },
     "output_type": "display_data"
    }
   ],
   "source": [
    "# Correlation between T and X\n",
    "plt.hist(corrTXs)\n",
    "plt.title('Correlation coefficient between $T$ and (one of) $\\mathbf{X}$')\n",
    "plt.show()"
   ]
  },
  {
   "cell_type": "markdown",
   "id": "b7c25a21",
   "metadata": {},
   "source": [
    "It is obvious that both $Y$ and $T$ are positively correlated with $\\mathbf{X}$. Therefore, if we fail to control $\\mathbf{X}$, we will likely suffer from a positive bias in the estimate of ATE."
   ]
  },
  {
   "cell_type": "markdown",
   "id": "2413123d",
   "metadata": {},
   "source": [
    "## Simulation Study&mdash;Compare Estimates"
   ]
  },
  {
   "cell_type": "markdown",
   "id": "8f8cd19a",
   "metadata": {},
   "source": [
    "I will simulate several estimators for comparison.\n",
    "\n",
    "### Naive Estimator\n",
    "\n",
    "Compute the difference in conditional means of $Y$:\n",
    "\n",
    "$$\n",
    "\\hat{\\psi} = \\frac{1}{n_1} \\sum_i T_i Y_i - \\frac{1}{n_0} \\sum_i (1 - T_i) Y_i \\ \\mathrm{where} \\ n_1 = \\sum_i T_i \\ \\mathrm{and} \\ n_0 = \\sum_i (1 - T_i)\n",
    "$$\n",
    "\n",
    "\n",
    "### Linear Regression\n",
    "\n",
    "Regress $ Y = \\alpha + \\psi * T + \\mathbf{X} \\beta + e$ and use the coefficient on $T$ as the estimate of ATE.\n",
    "\n",
    "\n",
    "### Random Forest Regression\n",
    "\n",
    "Estimate $\\hat{Q} (1, \\mathbf{x_i})$ and $\\hat{Q} (0, \\mathbf{x_i})$ by Random Forest, and then use them to estimate\n",
    "\n",
    "$$\n",
    "\\hat{\\psi} = \\frac{1}{n} \\sum_i \\left( \\hat{Q} (1, \\mathbf{x_i}) - \\hat{Q} (0, \\mathbf{x_i}) \\right).\n",
    "$$\n",
    "\n",
    "Hyperparameters of `RandomForestRegressor()` are tuned by cross-validation according to one set of randomly generated observations. That is, for computational cost, we use the same values of hyperparameters for all the random samples.\n",
    "\n",
    "\n",
    "### Doubly Robust Estimator with Random Forest\n",
    "\n",
    "Estimate $\\hat{g}(\\mathbf{x_i})$, $\\hat{Q} (1, \\mathbf{x_i})$ and $\\hat{Q} (0, \\mathbf{x_i})$ by Random Forest. Then use them to compute the doubly robust estimator,\n",
    "\n",
    "$$\n",
    "\\hat{\\psi} = \\frac{1}{n} \\sum_i \\left[ \\hat{Q} (1, \\mathbf{x_i}) - \\hat{Q} (0, \\mathbf{x_i}) + \\left( \\frac{t_i}{\\hat{g} (\\mathbf{x_i})} - \\frac{1 - t_i}{1 - \\hat{g}(\\mathbf{x_i})} \\right) \\left( y_i - \\hat{Q} (t_i, \\mathbf{x_i}) \\right) \\right].\n",
    "$$\n",
    "\n",
    "Again, hyperparameters of `RandomForestClassifier()` and `RandomForestRegressor()` are tuned by cross-validation according to one set of randomly generated observations.\n",
    "\n",
    "\n",
    "### Neural Networks: Dragonnet and TARNET\n",
    "\n",
    "Four methods are used for neural networks; Dragonnet and TARNET with and without targeted regularization."
   ]
  },
  {
   "cell_type": "markdown",
   "id": "0eaad083",
   "metadata": {},
   "source": [
    "Using a Monte Carlo simulation, I get the following metrics for each estimator: average bias, RMSE and histogram of $\\hat{\\psi}$."
   ]
  },
  {
   "cell_type": "code",
   "execution_count": 5,
   "id": "4cc59f74",
   "metadata": {},
   "outputs": [],
   "source": [
    "# Define parameters again (same as above)\n",
    "psi = 10; nvar = 5; nobs = 1000; corr = 0.5; degree = 5\n",
    "\n",
    "# Number of iterations\n",
    "# You may want to decrease it to shorten the runtime\n",
    "R = 500"
   ]
  },
  {
   "cell_type": "markdown",
   "id": "82040f33",
   "metadata": {},
   "source": [
    "### Naive Estimator"
   ]
  },
  {
   "cell_type": "code",
   "execution_count": 6,
   "id": "89041be2",
   "metadata": {},
   "outputs": [
    {
     "name": "stderr",
     "output_type": "stream",
     "text": [
      "100%|████████████████████████████████████████████████████████████████████████████████| 500/500 [00:05<00:00, 97.62it/s]\n"
     ]
    },
    {
     "name": "stdout",
     "output_type": "stream",
     "text": [
      "Naive Estimator   Bias: 174.02775996295998, RMSE: 177.42836896054592\n"
     ]
    },
    {
     "data": {
      "image/png": "[encoded data removed]",
      "text/plain": [
       "<Figure size 432x288 with 1 Axes>"
      ]
     },
     "metadata": {
      "needs_background": "light"
     },
     "output_type": "display_data"
    }
   ],
   "source": [
    "fn_simulation(estimator = 'naive', psi = psi, nobs = nobs, nvar = nvar, corr = corr, degree = degree, R = R)"
   ]
  },
  {
   "cell_type": "markdown",
   "id": "d166d3c1",
   "metadata": {},
   "source": [
    "### Linear Regression"
   ]
  },
  {
   "cell_type": "code",
   "execution_count": 7,
   "id": "3376f913",
   "metadata": {},
   "outputs": [
    {
     "name": "stderr",
     "output_type": "stream",
     "text": [
      "100%|████████████████████████████████████████████████████████████████████████████████| 500/500 [00:05<00:00, 91.47it/s]\n"
     ]
    },
    {
     "name": "stdout",
     "output_type": "stream",
     "text": [
      "Linear Regression   Bias: 59.578886095986306, RMSE: 66.33737445048608\n"
     ]
    },
    {
     "data": {
      "image/png": "[encoded data removed]",
      "text/plain": [
       "<Figure size 432x288 with 1 Axes>"
      ]
     },
     "metadata": {
      "needs_background": "light"
     },
     "output_type": "display_data"
    }
   ],
   "source": [
    "fn_simulation(estimator = 'ols', psi = psi, nobs = nobs, nvar = nvar, corr = corr, degree = degree, R = R)"
   ]
  },
  {
   "cell_type": "markdown",
   "id": "35932742",
   "metadata": {},
   "source": [
    "### Random Forest Regression"
   ]
  },
  {
   "cell_type": "code",
   "execution_count": 8,
   "id": "6e89c2e1",
   "metadata": {},
   "outputs": [
    {
     "name": "stderr",
     "output_type": "stream",
     "text": [
      "100%|████████████████████████████████████████████████████████████████████████████████| 500/500 [03:59<00:00,  2.09it/s]"
     ]
    },
    {
     "name": "stdout",
     "output_type": "stream",
     "text": [
      "Random Forest Regression   Bias: 40.71475093974418, RMSE: 41.75524520063073\n"
     ]
    },
    {
     "name": "stderr",
     "output_type": "stream",
     "text": [
      "\n"
     ]
    },
    {
     "data": {
      "image/png": "[encoded data removed]",
      "text/plain": [
       "<Figure size 432x288 with 1 Axes>"
      ]
     },
     "metadata": {
      "needs_background": "light"
     },
     "output_type": "display_data"
    }
   ],
   "source": [
    "fn_simulation(estimator = 'rf', psi = psi, nobs = nobs, nvar = nvar, corr = corr, degree = degree, R = R)"
   ]
  },
  {
   "cell_type": "markdown",
   "id": "1f6977cf",
   "metadata": {},
   "source": [
    "### Doubly Robust Estimator with Random Forest"
   ]
  },
  {
   "cell_type": "code",
   "execution_count": 9,
   "id": "e5ad5371",
   "metadata": {},
   "outputs": [
    {
     "name": "stderr",
     "output_type": "stream",
     "text": [
      "100%|████████████████████████████████████████████████████████████████████████████████| 500/500 [05:34<00:00,  1.49it/s]"
     ]
    },
    {
     "name": "stdout",
     "output_type": "stream",
     "text": [
      "Doubly Robust Estimator with Random Forest   Bias: 41.92654596009453, RMSE: 42.92654245690322\n"
     ]
    },
    {
     "name": "stderr",
     "output_type": "stream",
     "text": [
      "\n"
     ]
    },
    {
     "data": {
      "image/png": "[encoded data removed]",
      "text/plain": [
       "<Figure size 432x288 with 1 Axes>"
      ]
     },
     "metadata": {
      "needs_background": "light"
     },
     "output_type": "display_data"
    }
   ],
   "source": [
    "fn_simulation(estimator = 'dml', psi = psi, nobs = nobs, nvar = nvar, corr = corr, degree = degree, R = R)"
   ]
  },
  {
   "cell_type": "markdown",
   "id": "3b3c364c",
   "metadata": {},
   "source": [
    "### Dragonnet with Targeted Regularization"
   ]
  },
  {
   "cell_type": "code",
   "execution_count": 10,
   "id": "7404f08d",
   "metadata": {},
   "outputs": [
    {
     "name": "stderr",
     "output_type": "stream",
     "text": [
      "100%|██████████████████████████████████████████████████████████████████████████████| 500/500 [1:57:30<00:00, 14.10s/it]"
     ]
    },
    {
     "name": "stdout",
     "output_type": "stream",
     "text": [
      "Dragonnet with Targeted Regularization   Bias: 11.801342635010064, RMSE: 23.33811989066327\n"
     ]
    },
    {
     "name": "stderr",
     "output_type": "stream",
     "text": [
      "\n"
     ]
    },
    {
     "data": {
      "image/png": "[encoded data removed]",
      "text/plain": [
       "<Figure size 432x288 with 1 Axes>"
      ]
     },
     "metadata": {
      "needs_background": "light"
     },
     "output_type": "display_data"
    }
   ],
   "source": [
    "fn_simulation(estimator = 'treg_dragonnet', psi = psi, nobs = nobs, nvar = nvar, corr = corr, degree = degree, R = R)"
   ]
  },
  {
   "cell_type": "markdown",
   "id": "178921e3",
   "metadata": {},
   "source": [
    "### Dragonnet without Targeted Regularization"
   ]
  },
  {
   "cell_type": "code",
   "execution_count": 11,
   "id": "495518fa",
   "metadata": {},
   "outputs": [
    {
     "name": "stderr",
     "output_type": "stream",
     "text": [
      "100%|██████████████████████████████████████████████████████████████████████████████| 500/500 [2:36:17<00:00, 18.76s/it]"
     ]
    },
    {
     "name": "stdout",
     "output_type": "stream",
     "text": [
      "Dragonnet without Targeted Regularization   Bias: 10.132910108802378, RMSE: 19.39594229770945\n"
     ]
    },
    {
     "name": "stderr",
     "output_type": "stream",
     "text": [
      "\n"
     ]
    },
    {
     "data": {
      "image/png": "[encoded data removed]",
      "text/plain": [
       "<Figure size 432x288 with 1 Axes>"
      ]
     },
     "metadata": {
      "needs_background": "light"
     },
     "output_type": "display_data"
    }
   ],
   "source": [
    "fn_simulation(estimator = 'dragonnet', psi = psi, nobs = nobs, nvar = nvar, corr = corr, degree = degree, R = R)"
   ]
  },
  {
   "cell_type": "markdown",
   "id": "1a6068af",
   "metadata": {},
   "source": [
    "### TARNET with Targeted Regularization"
   ]
  },
  {
   "cell_type": "code",
   "execution_count": 12,
   "id": "a62d9ed4",
   "metadata": {},
   "outputs": [
    {
     "name": "stderr",
     "output_type": "stream",
     "text": [
      "100%|██████████████████████████████████████████████████████████████████████████████| 500/500 [6:12:06<00:00, 44.65s/it]"
     ]
    },
    {
     "name": "stdout",
     "output_type": "stream",
     "text": [
      "TARNET with Targeted Regularization   Bias: 22.33518738373905, RMSE: 39.911862412650436\n"
     ]
    },
    {
     "name": "stderr",
     "output_type": "stream",
     "text": [
      "\n"
     ]
    },
    {
     "data": {
      "image/png": "[encoded data removed]",
      "text/plain": [
       "<Figure size 432x288 with 1 Axes>"
      ]
     },
     "metadata": {
      "needs_background": "light"
     },
     "output_type": "display_data"
    }
   ],
   "source": [
    "fn_simulation(estimator = 'treg_tarnet', psi = psi, nobs = nobs, nvar = nvar, corr = corr, degree = degree, R = R)"
   ]
  },
  {
   "cell_type": "markdown",
   "id": "fc72d5e2",
   "metadata": {},
   "source": [
    "### TARNET without Targeted Regularization"
   ]
  },
  {
   "cell_type": "code",
   "execution_count": 13,
   "id": "ce8801a1",
   "metadata": {},
   "outputs": [
    {
     "name": "stderr",
     "output_type": "stream",
     "text": [
      "100%|██████████████████████████████████████████████████████████████████████████████| 500/500 [8:58:05<00:00, 64.57s/it]\n"
     ]
    },
    {
     "name": "stdout",
     "output_type": "stream",
     "text": [
      "TARNET without Targeted Regularization   Bias: 17.115118826807976, RMSE: 30.63553505481392\n"
     ]
    },
    {
     "data": {
      "image/png": "[encoded data removed]",
      "text/plain": [
       "<Figure size 432x288 with 1 Axes>"
      ]
     },
     "metadata": {
      "needs_background": "light"
     },
     "output_type": "display_data"
    }
   ],
   "source": [
    "fn_simulation(estimator = 'tarnet', psi = psi, nobs = nobs, nvar = nvar, corr = corr, degree = degree, R = R)"
   ]
  },
  {
   "cell_type": "markdown",
   "id": "ea9cc6c0",
   "metadata": {},
   "source": [
    "## Conclusion"
   ]
  },
  {
   "cell_type": "markdown",
   "id": "08419701",
   "metadata": {},
   "source": [
    "In my simulation, neural network methods outperform the other methods such as linear regression and Random Forest regression in terms of both bias and RMSE. This result might imply that neural network methods can perform well for causal inferences under unconfoundedness especially when treatment and outcome depend on covariates nonlinearly.\n",
    "\n",
    "Moreover, the Dragonnet outperforms the existing neural network method (TARNET). However, the targeted regularization fails to decrease the bias of the estimators at least in my simulation.\n",
    "\n",
    "The following should be noted:\n",
    "\n",
    "- i. My DGP might be so arbitrary that it might not reflect the reality.\n",
    "- ii. The number of iteration of 500 in Monte Carlo simulation is too small to conclude that one method outperforms another. Particularly, the difference between neural networks with and without targeted regularization appears to be quite small.\n",
    "\n",
    "That being said, my result is still roughly consistent with Shi et al. (2019) in the sense that their neural network methods can estimate the ATE relatively correctly. Therefore, I conclude that it is worth trying their methods when we estimate a treatment effect of a policy with observational data as long as we can assume unconfoundedness."
   ]
  },
  {
   "cell_type": "markdown",
   "id": "00dc4335",
   "metadata": {},
   "source": [
    "## Reference"
   ]
  },
  {
   "cell_type": "markdown",
   "id": "6ea9ab90",
   "metadata": {},
   "source": [
    "Shi, C., Blei, D. M. & Veitch, V. (2019, December 10). *Adapting neural networks for the estimation of treatment effects* [Paper presentation]. 33rd Annual Conference on Neural Information Processing Systems (NeurIPS 2019), Vancouver, Canada. https://arxiv.org/abs/1906.02120"
   ]
  }
 ],
 "metadata": {
  "kernelspec": {
   "display_name": "Python (Finance)",
   "language": "python",
   "name": "finance"
  },
  "language_info": {
   "codemirror_mode": {
    "name": "ipython",
    "version": 3
   },
   "file_extension": ".py",
   "mimetype": "text/x-python",
   "name": "python",
   "nbconvert_exporter": "python",
   "pygments_lexer": "ipython3",
   "version": "3.9.7"
  }
 },
 "nbformat": 4,
 "nbformat_minor": 5
}
